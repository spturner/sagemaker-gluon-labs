{
 "cells": [
  {
   "cell_type": "markdown",
   "metadata": {},
   "source": [
    "# Lab: Deploying an end point using Amazon SageMaker\n",
    "\n",
    "Amazon SageMaker is composed of 5 main services: hosted notebooks, built-in algorithms, model training, hyperparameter tuning, and model hosting. They all fit in nicely together and can also be used independendly as needed. In this lab we explore how to deploy and host a model so it can be used in production to evaluate novel inputs. THe hosted endpoints can either be used on single examples or in batch mode over a larger number of examples.\n",
    "\n",
    "In this lab we explore three different ways of deploying the endpoint:\n",
    "\n",
    "1. Using a model trained with Amazon SageMaker.\n",
    "2. From a model trained elsewhere with artifacts stored in Amazon S3.\n",
    "3. From a model developed with a custom docker container."
   ]
  },
  {
   "cell_type": "code",
   "execution_count": 1,
   "metadata": {},
   "outputs": [],
   "source": [
    "import os\n",
    "import boto3\n",
    "import sagemaker\n",
    "from sagemaker.mxnet import MXNet\n",
    "from mxnet import gluon\n",
    "from sagemaker import get_execution_role\n",
    "\n",
    "sagemaker_session = sagemaker.Session()\n",
    "\n",
    "role = get_execution_role()"
   ]
  },
  {
   "cell_type": "markdown",
   "metadata": {},
   "source": [
    "## <span style=\"color:blue\">Section 1: Deploying a model trained with Amazon SageMaker</span>"
   ]
  },
  {
   "cell_type": "markdown",
   "metadata": {},
   "source": [
    "To start with a model is trained with Amazon SageMaker and then directly deployed to an endpoint.\n",
    "\n",
    "MNIST is a widely used dataset for handwritten digit classification. It consists of 70,000 labeled 28x28 pixel grayscale images of hand-written digits. The dataset is split into 60,000 training images and 10,000 test images. There are 10 classes (one for each of the 10 digits). This part of the lab will show how to train and test an MNIST model on SageMaker using MXNet and the Gluon API."
   ]
  },
  {
   "cell_type": "markdown",
   "metadata": {},
   "source": [
    "### Download training and test data"
   ]
  },
  {
   "cell_type": "code",
   "execution_count": 2,
   "metadata": {},
   "outputs": [
    {
     "data": {
      "text/plain": [
       "<mxnet.gluon.data.vision.datasets.MNIST at 0x7fe7807fef50>"
      ]
     },
     "execution_count": 2,
     "metadata": {},
     "output_type": "execute_result"
    }
   ],
   "source": [
    "gluon.data.vision.MNIST('./data/train', train=True)\n",
    "gluon.data.vision.MNIST('./data/test', train=False)"
   ]
  },
  {
   "cell_type": "markdown",
   "metadata": {},
   "source": [
    "### Uploading the data\n",
    "\n",
    "We use the `sagemaker.Session.upload_data` function to upload our datasets to an S3 location. The return value `inputs` identifies the location -- we will use this later when we start the training job."
   ]
  },
  {
   "cell_type": "code",
   "execution_count": 3,
   "metadata": {},
   "outputs": [],
   "source": [
    "inputs = sagemaker_session.upload_data(path='data', key_prefix='data/DEMO-mnist')"
   ]
  },
  {
   "cell_type": "markdown",
   "metadata": {},
   "source": [
    "### Implement the training function\n",
    "\n",
    "We need to provide a training script that can run on the SageMaker platform. The training scripts are essentially the same as one you would write for local training, except that you need to provide a `train` function. When SageMaker calls your function, it will pass in arguments that describe the training environment. Check the script below to see how this works.\n",
    "\n",
    "The script here is an adaptation of the [Gluon MNIST example](https://github.com/apache/incubator-mxnet/blob/master/example/gluon/mnist.py) provided by the [Apache MXNet](https://mxnet.incubator.apache.org/) project. "
   ]
  },
  {
   "cell_type": "code",
   "execution_count": 4,
   "metadata": {},
   "outputs": [
    {
     "name": "stdout",
     "output_type": "stream",
     "text": [
      "from __future__ import print_function\r\n",
      "\r\n",
      "import logging\r\n",
      "import mxnet as mx\r\n",
      "from mxnet import gluon, autograd\r\n",
      "from mxnet.gluon import nn\r\n",
      "import numpy as np\r\n",
      "import json\r\n",
      "import time\r\n",
      "\r\n",
      "\r\n",
      "logging.basicConfig(level=logging.DEBUG)\r\n",
      "\r\n",
      "# ------------------------------------------------------------ #\r\n",
      "# Training methods                                             #\r\n",
      "# ------------------------------------------------------------ #\r\n",
      "\r\n",
      "\r\n",
      "def train(current_host, channel_input_dirs, hyperparameters, hosts, num_gpus):\r\n",
      "    # SageMaker passes num_cpus, num_gpus and other args we can use to tailor training to\r\n",
      "    # the current container environment, but here we just use simple cpu context.\r\n",
      "    ctx = mx.cpu()\r\n",
      "\r\n",
      "    # retrieve the hyperparameters we set in notebook (with some defaults)\r\n",
      "    batch_size = hyperparameters.get('batch_size', 100)\r\n",
      "    epochs = hyperparameters.get('epochs', 10)\r\n",
      "    learning_rate = hyperparameters.get('learning_rate', 0.1)\r\n",
      "    momentum = hyperparameters.get('momentum', 0.9)\r\n",
      "    log_interval = hyperparameters.get('log_interval', 100)\r\n",
      "\r\n",
      "    # load training and validation data\r\n",
      "    # we use the gluon.data.vision.MNIST class because of its built in mnist pre-processing logic,\r\n",
      "    # but point it at the location where SageMaker placed the data files, so it doesn't download them again.\r\n",
      "    training_dir = channel_input_dirs['training']\r\n",
      "    train_data = get_train_data(training_dir + '/train', batch_size)\r\n",
      "    val_data = get_val_data(training_dir + '/test', batch_size)\r\n",
      "\r\n",
      "    # define the network\r\n",
      "    net = define_network()\r\n",
      "\r\n",
      "    # Collect all parameters from net and its children, then initialize them.\r\n",
      "    net.initialize(mx.init.Xavier(magnitude=2.24), ctx=ctx)\r\n",
      "    # Trainer is for updating parameters with gradient.\r\n",
      "\r\n",
      "    if len(hosts) == 1:\r\n",
      "        kvstore = 'device' if num_gpus > 0 else 'local'\r\n",
      "    else:\r\n",
      "        kvstore = 'dist_device_sync' if num_gpus > 0 else 'dist_sync'\r\n",
      "\r\n",
      "    trainer = gluon.Trainer(net.collect_params(), 'sgd',\r\n",
      "                            {'learning_rate': learning_rate, 'momentum': momentum},\r\n",
      "                            kvstore=kvstore)\r\n",
      "    metric = mx.metric.Accuracy()\r\n",
      "    loss = gluon.loss.SoftmaxCrossEntropyLoss()\r\n",
      "\r\n",
      "    # shard the training data in case we are doing distributed training. Alternatively to splitting in memory,\r\n",
      "    # the data could be pre-split in S3 and use ShardedByS3Key to do distributed training.\r\n",
      "    if len(hosts) > 1:\r\n",
      "        train_data = [x for x in train_data]\r\n",
      "        shard_size = len(train_data) // len(hosts)\r\n",
      "        for i, host in enumerate(hosts):\r\n",
      "            if host == current_host:\r\n",
      "                start = shard_size * i\r\n",
      "                end = start + shard_size\r\n",
      "                break\r\n",
      "\r\n",
      "        train_data = train_data[start:end]\r\n",
      "\r\n",
      "    for epoch in range(epochs):\r\n",
      "        # reset data iterator and metric at begining of epoch.\r\n",
      "        metric.reset()\r\n",
      "        btic = time.time()\r\n",
      "        for i, (data, label) in enumerate(train_data):\r\n",
      "            # Copy data to ctx if necessary\r\n",
      "            data = data.as_in_context(ctx)\r\n",
      "            label = label.as_in_context(ctx)\r\n",
      "            # Start recording computation graph with record() section.\r\n",
      "            # Recorded graphs can then be differentiated with backward.\r\n",
      "            with autograd.record():\r\n",
      "                output = net(data)\r\n",
      "                L = loss(output, label)\r\n",
      "                L.backward()\r\n",
      "            # take a gradient step with batch_size equal to data.shape[0]\r\n",
      "            trainer.step(data.shape[0])\r\n",
      "            # update metric at last.\r\n",
      "            metric.update([label], [output])\r\n",
      "\r\n",
      "            if i % log_interval == 0 and i > 0:\r\n",
      "                name, acc = metric.get()\r\n",
      "                print('[Epoch %d Batch %d] Training: %s=%f, %f samples/s' %\r\n",
      "                      (epoch, i, name, acc, batch_size / (time.time() - btic)))\r\n",
      "\r\n",
      "            btic = time.time()\r\n",
      "\r\n",
      "        name, acc = metric.get()\r\n",
      "        print('[Epoch %d] Training: %s=%f' % (epoch, name, acc))\r\n",
      "\r\n",
      "        name, val_acc = test(ctx, net, val_data)\r\n",
      "        print('[Epoch %d] Validation: %s=%f' % (epoch, name, val_acc))\r\n",
      "\r\n",
      "    return net\r\n",
      "\r\n",
      "\r\n",
      "def save(net, model_dir):\r\n",
      "    # save the model\r\n",
      "    y = net(mx.sym.var('data'))\r\n",
      "    y.save('%s/model.json' % model_dir)\r\n",
      "    net.collect_params().save('%s/model.params' % model_dir)\r\n",
      "\r\n",
      "\r\n",
      "def define_network():\r\n",
      "    net = nn.Sequential()\r\n",
      "    with net.name_scope():\r\n",
      "        net.add(nn.Dense(128, activation='relu'))\r\n",
      "        net.add(nn.Dense(64, activation='relu'))\r\n",
      "        net.add(nn.Dense(10))\r\n",
      "    return net\r\n",
      "\r\n",
      "\r\n",
      "def input_transformer(data, label):\r\n",
      "    data = data.reshape((-1,)).astype(np.float32) / 255\r\n",
      "    return data, label\r\n",
      "\r\n",
      "\r\n",
      "def get_train_data(data_dir, batch_size):\r\n",
      "    return gluon.data.DataLoader(\r\n",
      "        gluon.data.vision.MNIST(data_dir, train=True, transform=input_transformer),\r\n",
      "        batch_size=batch_size, shuffle=True, last_batch='discard')\r\n",
      "\r\n",
      "\r\n",
      "def get_val_data(data_dir, batch_size):\r\n",
      "    return gluon.data.DataLoader(\r\n",
      "        gluon.data.vision.MNIST(data_dir, train=False, transform=input_transformer),\r\n",
      "        batch_size=batch_size, shuffle=False)\r\n",
      "\r\n",
      "\r\n",
      "def test(ctx, net, val_data):\r\n",
      "    metric = mx.metric.Accuracy()\r\n",
      "    for data, label in val_data:\r\n",
      "        data = data.as_in_context(ctx)\r\n",
      "        label = label.as_in_context(ctx)\r\n",
      "        output = net(data)\r\n",
      "        metric.update([label], [output])\r\n",
      "    return metric.get()\r\n",
      "\r\n",
      "\r\n",
      "# ------------------------------------------------------------ #\r\n",
      "# Hosting methods                                              #\r\n",
      "# ------------------------------------------------------------ #\r\n",
      "\r\n",
      "def model_fn(model_dir):\r\n",
      "    \"\"\"\r\n",
      "    Load the gluon model. Called once when hosting service starts.\r\n",
      "\r\n",
      "    :param: model_dir The directory where model files are stored.\r\n",
      "    :return: a model (in this case a Gluon network)\r\n",
      "    \"\"\"\r\n",
      "    symbol = mx.sym.load('%s/model.json' % model_dir)\r\n",
      "    outputs = mx.symbol.softmax(data=symbol, name='softmax_label')\r\n",
      "    inputs = mx.sym.var('data')\r\n",
      "    param_dict = gluon.ParameterDict('model_')\r\n",
      "    net = gluon.SymbolBlock(outputs, inputs, param_dict)\r\n",
      "    net.load_params('%s/model.params' % model_dir, ctx=mx.cpu())\r\n",
      "    return net\r\n",
      "\r\n",
      "\r\n",
      "def transform_fn(net, data, input_content_type, output_content_type):\r\n",
      "    \"\"\"\r\n",
      "    Transform a request using the Gluon model. Called once per request.\r\n",
      "\r\n",
      "    :param net: The Gluon model.\r\n",
      "    :param data: The request payload.\r\n",
      "    :param input_content_type: The request content type.\r\n",
      "    :param output_content_type: The (desired) response content type.\r\n",
      "    :return: response payload and content type.\r\n",
      "    \"\"\"\r\n",
      "    # we can use content types to vary input/output handling, but\r\n",
      "    # here we just assume json for both\r\n",
      "    parsed = json.loads(data)\r\n",
      "    nda = mx.nd.array(parsed)\r\n",
      "    output = net(nda)\r\n",
      "    prediction = mx.nd.argmax(output, axis=1)\r\n",
      "    response_body = json.dumps(prediction.asnumpy().tolist()[0])\r\n",
      "    return response_body, output_content_type\r\n"
     ]
    }
   ],
   "source": [
    "!cat 'mnist.py'"
   ]
  },
  {
   "cell_type": "markdown",
   "metadata": {},
   "source": [
    "### Run the training script on SageMaker\n",
    "\n",
    "The ```MXNet``` class allows us to run our training function on SageMaker infrastructure. We need to configure it with our training script, an IAM role, the number of training instances, and the training instance type. In this case we will run our training job on a single c4.xlarge instance. "
   ]
  },
  {
   "cell_type": "code",
   "execution_count": 5,
   "metadata": {},
   "outputs": [],
   "source": [
    "m = MXNet(\"mnist.py\", \n",
    "          role=role, \n",
    "          train_instance_count=1, \n",
    "          train_instance_type=\"ml.c4.xlarge\",\n",
    "          hyperparameters={'batch_size': 100, \n",
    "                         'epochs': 20, \n",
    "                         'learning_rate': 0.1, \n",
    "                         'momentum': 0.9, \n",
    "                         'log_interval': 100})"
   ]
  },
  {
   "cell_type": "markdown",
   "metadata": {},
   "source": [
    "After we've constructed our `MXNet` object, we can fit it using the data we uploaded to S3. SageMaker makes sure our data is available in the local filesystem, so our training script can simply read the data from disk.\n"
   ]
  },
  {
   "cell_type": "code",
   "execution_count": 6,
   "metadata": {
    "scrolled": true
   },
   "outputs": [
    {
     "name": "stderr",
     "output_type": "stream",
     "text": [
      "INFO:sagemaker:Creating training-job with name: sagemaker-mxnet-2018-07-20-08-45-48-381\n"
     ]
    },
    {
     "name": "stdout",
     "output_type": "stream",
     "text": [
      "...............\n",
      "\u001b[31m2018-07-20 08:48:02,723 INFO - root - running container entrypoint\u001b[0m\n",
      "\u001b[31m2018-07-20 08:48:02,724 INFO - root - starting train task\u001b[0m\n",
      "\u001b[31m2018-07-20 08:48:02,729 INFO - container_support.training - Training starting\u001b[0m\n",
      "\u001b[31m2018-07-20 08:48:05,053 INFO - mxnet_container.train - MXNetTrainingEnvironment: {'enable_cloudwatch_metrics': False, 'available_gpus': 0, 'channels': {u'training': {u'TrainingInputMode': u'File', u'RecordWrapperType': u'None', u'S3DistributionType': u'FullyReplicated'}}, '_ps_verbose': 0, 'resource_config': {u'hosts': [u'algo-1'], u'network_interface_name': u'ethwe', u'current_host': u'algo-1'}, 'user_script_name': u'mnist.py', 'input_config_dir': '/opt/ml/input/config', 'channel_dirs': {u'training': u'/opt/ml/input/data/training'}, 'code_dir': '/opt/ml/code', 'output_data_dir': '/opt/ml/output/data/', 'output_dir': '/opt/ml/output', 'model_dir': '/opt/ml/model', 'hyperparameters': {u'sagemaker_program': u'mnist.py', u'learning_rate': 0.1, u'batch_size': 100, u'epochs': 20, u'log_interval': 100, u'sagemaker_region': u'eu-west-1', u'sagemaker_enable_cloudwatch_metrics': False, u'sagemaker_job_name': u'sagemaker-mxnet-2018-07-20-08-45-48-381', u'sagemaker_container_log_level': 20, u'momentum': 0.9, u'sagemaker_submit_directory': u's3://sagemaker-eu-west-1-987551451182/sagemaker-mxnet-2018-07-20-08-45-48-381/source/sourcedir.tar.gz'}, 'hosts': [u'algo-1'], 'job_name': 'sagemaker-mxnet-2018-07-20-08-45-48-381', '_ps_port': 8000, 'user_script_archive': u's3://sagemaker-eu-west-1-987551451182/sagemaker-mxnet-2018-07-20-08-45-48-381/source/sourcedir.tar.gz', '_scheduler_host': u'algo-1', 'sagemaker_region': u'eu-west-1', '_scheduler_ip': '10.32.0.4', 'input_dir': '/opt/ml/input', 'user_requirements_file': None, 'current_host': u'algo-1', 'container_log_level': 20, 'available_cpus': 4, 'base_dir': '/opt/ml'}\u001b[0m\n",
      "\u001b[31mDownloading s3://sagemaker-eu-west-1-987551451182/sagemaker-mxnet-2018-07-20-08-45-48-381/source/sourcedir.tar.gz to /tmp/script.tar.gz\u001b[0m\n",
      "\u001b[31m2018-07-20 08:48:05,192 INFO - botocore.vendored.requests.packages.urllib3.connectionpool - Starting new HTTP connection (1): 169.254.170.2\u001b[0m\n",
      "\u001b[31m2018-07-20 08:48:05,308 INFO - botocore.vendored.requests.packages.urllib3.connectionpool - Starting new HTTPS connection (1): sagemaker-eu-west-1-987551451182.s3.amazonaws.com\u001b[0m\n",
      "\u001b[31m2018-07-20 08:48:05,354 INFO - botocore.vendored.requests.packages.urllib3.connectionpool - Starting new HTTPS connection (2): sagemaker-eu-west-1-987551451182.s3.amazonaws.com\u001b[0m\n",
      "\u001b[31m2018-07-20 08:48:05,368 INFO - botocore.vendored.requests.packages.urllib3.connectionpool - Starting new HTTPS connection (1): sagemaker-eu-west-1-987551451182.s3.eu-west-1.amazonaws.com\u001b[0m\n",
      "\u001b[31m2018-07-20 08:48:05,418 INFO - botocore.vendored.requests.packages.urllib3.connectionpool - Starting new HTTPS connection (2): sagemaker-eu-west-1-987551451182.s3.eu-west-1.amazonaws.com\u001b[0m\n",
      "\u001b[31m2018-07-20 08:48:05,528 INFO - mxnet_container.train - Starting distributed training task\u001b[0m\n",
      "\u001b[31m[Epoch 0 Batch 100] Training: accuracy=0.797327, 4295.902084 samples/s\u001b[0m\n",
      "\u001b[31m[Epoch 0 Batch 200] Training: accuracy=0.855423, 4361.116714 samples/s\u001b[0m\n",
      "\u001b[31m[Epoch 0 Batch 300] Training: accuracy=0.881827, 4437.947307 samples/s\u001b[0m\n",
      "\u001b[31m[Epoch 0 Batch 400] Training: accuracy=0.897830, 4788.127583 samples/s\u001b[0m\n",
      "\u001b[31m[Epoch 0 Batch 500] Training: accuracy=0.908463, 4719.648021 samples/s\u001b[0m\n",
      "\u001b[31m[Epoch 0] Training: accuracy=0.916500\u001b[0m\n",
      "\u001b[31m[Epoch 0] Validation: accuracy=0.958100\u001b[0m\n",
      "\u001b[31m[Epoch 1 Batch 100] Training: accuracy=0.963168, 4326.745685 samples/s\u001b[0m\n",
      "\u001b[31m[Epoch 1 Batch 200] Training: accuracy=0.961891, 4343.863210 samples/s\u001b[0m\n",
      "\u001b[31m[Epoch 1 Batch 300] Training: accuracy=0.963156, 4362.250650 samples/s\u001b[0m\n",
      "\u001b[31m[Epoch 1 Batch 400] Training: accuracy=0.964140, 4405.688956 samples/s\u001b[0m\n",
      "\u001b[31m[Epoch 1 Batch 500] Training: accuracy=0.964790, 3339.573547 samples/s\u001b[0m\n",
      "\u001b[31m[Epoch 1] Training: accuracy=0.965100\u001b[0m\n",
      "\u001b[31m[Epoch 1] Validation: accuracy=0.965900\u001b[0m\n",
      "\u001b[31m[Epoch 2 Batch 100] Training: accuracy=0.974851, 4331.258390 samples/s\u001b[0m\n",
      "\u001b[31m[Epoch 2 Batch 200] Training: accuracy=0.975274, 4442.083413 samples/s\u001b[0m\n",
      "\u001b[31m[Epoch 2 Batch 300] Training: accuracy=0.975216, 4359.213029 samples/s\u001b[0m\n",
      "\u001b[31m[Epoch 2 Batch 400] Training: accuracy=0.974314, 4346.699277 samples/s\u001b[0m\n",
      "\u001b[31m[Epoch 2 Batch 500] Training: accuracy=0.974072, 4373.303304 samples/s\u001b[0m\n",
      "\u001b[31m[Epoch 2] Training: accuracy=0.973567\u001b[0m\n",
      "\u001b[31m[Epoch 2] Validation: accuracy=0.973200\u001b[0m\n",
      "\u001b[31m[Epoch 3 Batch 100] Training: accuracy=0.979604, 4348.006013 samples/s\u001b[0m\n",
      "\u001b[31m[Epoch 3 Batch 200] Training: accuracy=0.978060, 4217.415437 samples/s\u001b[0m\n",
      "\u001b[31m[Epoch 3 Batch 300] Training: accuracy=0.978239, 4359.575507 samples/s\u001b[0m\n",
      "\u001b[31m[Epoch 3 Batch 400] Training: accuracy=0.978628, 4299.248660 samples/s\u001b[0m\n",
      "\u001b[31m[Epoch 3 Batch 500] Training: accuracy=0.978423, 3827.024462 samples/s\u001b[0m\n",
      "\u001b[31m[Epoch 3] Training: accuracy=0.977217\u001b[0m\n",
      "\u001b[31m[Epoch 3] Validation: accuracy=0.968500\u001b[0m\n",
      "\u001b[31m[Epoch 4 Batch 100] Training: accuracy=0.983564, 5211.027594 samples/s\u001b[0m\n",
      "\u001b[31m[Epoch 4 Batch 200] Training: accuracy=0.982985, 4422.598536 samples/s\u001b[0m\n",
      "\u001b[31m[Epoch 4 Batch 300] Training: accuracy=0.983223, 4358.261809 samples/s\u001b[0m\n",
      "\u001b[31m[Epoch 4 Batch 400] Training: accuracy=0.982918, 4410.553435 samples/s\u001b[0m\n",
      "\u001b[31m[Epoch 4 Batch 500] Training: accuracy=0.982635, 4409.950584 samples/s\u001b[0m\n",
      "\u001b[31m[Epoch 4] Training: accuracy=0.981917\u001b[0m\n",
      "\u001b[31m[Epoch 4] Validation: accuracy=0.972700\u001b[0m\n",
      "\u001b[31m[Epoch 5 Batch 100] Training: accuracy=0.987723, 5465.959471 samples/s\u001b[0m\n",
      "\u001b[31m[Epoch 5 Batch 200] Training: accuracy=0.986816, 4357.311005 samples/s\u001b[0m\n",
      "\u001b[31m[Epoch 5 Batch 300] Training: accuracy=0.986080, 4892.857226 samples/s\u001b[0m\n",
      "\u001b[31m[Epoch 5 Batch 400] Training: accuracy=0.985162, 4600.884131 samples/s\u001b[0m\n",
      "\u001b[31m[Epoch 5 Batch 500] Training: accuracy=0.985130, 4385.007998 samples/s\u001b[0m\n",
      "\u001b[31m[Epoch 5] Training: accuracy=0.985100\u001b[0m\n",
      "\u001b[31m[Epoch 5] Validation: accuracy=0.973700\u001b[0m\n",
      "\u001b[31m[Epoch 6 Batch 100] Training: accuracy=0.990297, 4251.874379 samples/s\u001b[0m\n",
      "\u001b[31m[Epoch 6 Batch 200] Training: accuracy=0.990796, 3730.923323 samples/s\u001b[0m\n",
      "\u001b[31m[Epoch 6 Batch 300] Training: accuracy=0.989169, 4338.606037 samples/s\u001b[0m\n",
      "\u001b[31m[Epoch 6 Batch 400] Training: accuracy=0.988304, 4237.483962 samples/s\u001b[0m\n",
      "\u001b[31m[Epoch 6 Batch 500] Training: accuracy=0.987725, 4234.617559 samples/s\u001b[0m\n",
      "\u001b[31m[Epoch 6] Training: accuracy=0.987617\u001b[0m\n",
      "\u001b[31m[Epoch 6] Validation: accuracy=0.974700\u001b[0m\n",
      "\u001b[31m[Epoch 7 Batch 100] Training: accuracy=0.989307, 4864.766058 samples/s\u001b[0m\n",
      "\u001b[31m[Epoch 7 Batch 200] Training: accuracy=0.988408, 4328.799810 samples/s\u001b[0m\n",
      "\u001b[31m[Epoch 7 Batch 300] Training: accuracy=0.988405, 3077.010659 samples/s\u001b[0m\n",
      "\u001b[31m[Epoch 7 Batch 400] Training: accuracy=0.988853, 4242.885034 samples/s\u001b[0m\n",
      "\u001b[31m[Epoch 7 Batch 500] Training: accuracy=0.988782, 4372.163616 samples/s\u001b[0m\n",
      "\u001b[31m[Epoch 7] Training: accuracy=0.988617\u001b[0m\n",
      "\u001b[31m[Epoch 7] Validation: accuracy=0.974900\u001b[0m\n",
      "\u001b[31m[Epoch 8 Batch 100] Training: accuracy=0.991287, 4349.945033 samples/s\u001b[0m\n",
      "\u001b[31m[Epoch 8 Batch 200] Training: accuracy=0.991542, 3340.105436 samples/s\u001b[0m\n",
      "\u001b[31m[Epoch 8 Batch 300] Training: accuracy=0.991196, 4219.579280 samples/s\u001b[0m\n",
      "\u001b[31m[Epoch 8 Batch 400] Training: accuracy=0.990449, 4400.234998 samples/s\u001b[0m\n",
      "\u001b[31m[Epoch 8 Batch 500] Training: accuracy=0.990240, 4358.442962 samples/s\u001b[0m\n",
      "\u001b[31m[Epoch 8] Training: accuracy=0.990183\u001b[0m\n",
      "\u001b[31m[Epoch 8] Validation: accuracy=0.973500\u001b[0m\n",
      "\u001b[31m[Epoch 9 Batch 100] Training: accuracy=0.991584, 4406.244353 samples/s\u001b[0m\n",
      "\u001b[31m[Epoch 9 Batch 200] Training: accuracy=0.990846, 5355.889263 samples/s\u001b[0m\n",
      "\u001b[31m[Epoch 9 Batch 300] Training: accuracy=0.991063, 4256.923342 samples/s\u001b[0m\n",
      "\u001b[31m[Epoch 9 Batch 400] Training: accuracy=0.990349, 4878.742832 samples/s\u001b[0m\n",
      "\u001b[31m[Epoch 9 Batch 500] Training: accuracy=0.989980, 4235.130660 samples/s\u001b[0m\n",
      "\u001b[31m[Epoch 9] Training: accuracy=0.989733\u001b[0m\n",
      "\u001b[31m[Epoch 9] Validation: accuracy=0.976700\u001b[0m\n",
      "\u001b[31m[Epoch 10 Batch 100] Training: accuracy=0.991386, 4422.785077 samples/s\u001b[0m\n",
      "\u001b[31m[Epoch 10 Batch 200] Training: accuracy=0.991393, 4477.267293 samples/s\u001b[0m\n",
      "\u001b[31m[Epoch 10 Batch 300] Training: accuracy=0.991561, 4465.493415 samples/s\u001b[0m\n",
      "\u001b[31m[Epoch 10 Batch 400] Training: accuracy=0.991945, 4350.260852 samples/s\u001b[0m\n",
      "\u001b[31m[Epoch 10 Batch 500] Training: accuracy=0.991756, 4396.545073 samples/s\u001b[0m\n",
      "\u001b[31m[Epoch 10] Training: accuracy=0.991633\u001b[0m\n"
     ]
    },
    {
     "name": "stdout",
     "output_type": "stream",
     "text": [
      "\u001b[31m[Epoch 10] Validation: accuracy=0.975800\u001b[0m\n",
      "\u001b[31m[Epoch 11 Batch 100] Training: accuracy=0.994653, 4401.758897 samples/s\u001b[0m\n",
      "\u001b[31m[Epoch 11 Batch 200] Training: accuracy=0.992935, 3217.280314 samples/s\u001b[0m\n",
      "\u001b[31m[Epoch 11 Batch 300] Training: accuracy=0.993223, 4493.576173 samples/s\u001b[0m\n",
      "\u001b[31m[Epoch 11 Batch 400] Training: accuracy=0.993167, 4208.064370 samples/s\u001b[0m\n",
      "\u001b[31m[Epoch 11 Batch 500] Training: accuracy=0.993054, 3861.162868 samples/s\u001b[0m\n",
      "\u001b[31m[Epoch 11] Training: accuracy=0.993267\u001b[0m\n",
      "\u001b[31m[Epoch 11] Validation: accuracy=0.978400\u001b[0m\n",
      "\u001b[31m[Epoch 12 Batch 100] Training: accuracy=0.992673, 4674.204585 samples/s\u001b[0m\n",
      "\u001b[31m[Epoch 12 Batch 200] Training: accuracy=0.992289, 4320.773026 samples/s\u001b[0m\n",
      "\u001b[31m[Epoch 12 Batch 300] Training: accuracy=0.992425, 4328.085111 samples/s\u001b[0m\n",
      "\u001b[31m[Epoch 12 Batch 400] Training: accuracy=0.992843, 4398.896685 samples/s\u001b[0m\n",
      "\u001b[31m[Epoch 12 Batch 500] Training: accuracy=0.993014, 4363.158223 samples/s\u001b[0m\n",
      "\u001b[31m[Epoch 12] Training: accuracy=0.992600\u001b[0m\n",
      "\u001b[31m[Epoch 12] Validation: accuracy=0.976100\u001b[0m\n",
      "\u001b[31m[Epoch 13 Batch 100] Training: accuracy=0.994851, 4500.422756 samples/s\u001b[0m\n",
      "\u001b[31m[Epoch 13 Batch 200] Training: accuracy=0.994428, 4213.898629 samples/s\u001b[0m\n",
      "\u001b[31m[Epoch 13 Batch 300] Training: accuracy=0.994718, 5071.771122 samples/s\u001b[0m\n",
      "\u001b[31m[Epoch 13 Batch 400] Training: accuracy=0.994389, 4343.683268 samples/s\u001b[0m\n",
      "\u001b[31m[Epoch 13 Batch 500] Training: accuracy=0.994271, 4364.701965 samples/s\u001b[0m\n",
      "\u001b[31m[Epoch 13] Training: accuracy=0.993850\u001b[0m\n",
      "\u001b[31m[Epoch 13] Validation: accuracy=0.974700\u001b[0m\n",
      "\u001b[31m[Epoch 14 Batch 100] Training: accuracy=0.994356, 4478.271175 samples/s\u001b[0m\n",
      "\u001b[31m[Epoch 14 Batch 200] Training: accuracy=0.994627, 4444.813700 samples/s\u001b[0m\n",
      "\u001b[31m[Epoch 14 Batch 300] Training: accuracy=0.993654, 4390.608088 samples/s\u001b[0m\n",
      "\u001b[31m[Epoch 14 Batch 400] Training: accuracy=0.993666, 4291.111475 samples/s\u001b[0m\n",
      "\u001b[31m[Epoch 14 Batch 500] Training: accuracy=0.993234, 3988.042445 samples/s\u001b[0m\n",
      "\u001b[31m[Epoch 14] Training: accuracy=0.992667\u001b[0m\n",
      "\u001b[31m[Epoch 14] Validation: accuracy=0.975700\u001b[0m\n",
      "\u001b[31m[Epoch 15 Batch 100] Training: accuracy=0.994950, 4310.161131 samples/s\u001b[0m\n",
      "\u001b[31m[Epoch 15 Batch 200] Training: accuracy=0.995323, 4783.267759 samples/s\u001b[0m\n",
      "\u001b[31m[Epoch 15 Batch 300] Training: accuracy=0.994485, 4300.879801 samples/s\u001b[0m\n",
      "\u001b[31m[Epoch 15 Batch 400] Training: accuracy=0.994489, 4222.807954 samples/s\u001b[0m\n",
      "\u001b[31m[Epoch 15 Batch 500] Training: accuracy=0.994032, 4340.087540 samples/s\u001b[0m\n",
      "\u001b[31m[Epoch 15] Training: accuracy=0.993650\u001b[0m\n",
      "\u001b[31m[Epoch 15] Validation: accuracy=0.976900\u001b[0m\n",
      "\u001b[31m[Epoch 16 Batch 100] Training: accuracy=0.993069, 4361.479510 samples/s\u001b[0m\n",
      "\u001b[31m[Epoch 16 Batch 200] Training: accuracy=0.993582, 2525.700178 samples/s\u001b[0m\n",
      "\u001b[31m[Epoch 16 Batch 300] Training: accuracy=0.994452, 4281.911918 samples/s\u001b[0m\n",
      "\u001b[31m[Epoch 16 Batch 400] Training: accuracy=0.994090, 5357.599601 samples/s\u001b[0m\n",
      "\u001b[31m[Epoch 16 Batch 500] Training: accuracy=0.993832, 4507.338671 samples/s\u001b[0m\n",
      "\u001b[31m[Epoch 16] Training: accuracy=0.993233\u001b[0m\n",
      "\u001b[31m[Epoch 16] Validation: accuracy=0.975200\u001b[0m\n",
      "\u001b[31m[Epoch 17 Batch 100] Training: accuracy=0.992772, 4404.301075 samples/s\u001b[0m\n",
      "\u001b[31m[Epoch 17 Batch 200] Training: accuracy=0.993134, 4382.121738 samples/s\u001b[0m\n",
      "\u001b[31m[Epoch 17 Batch 300] Training: accuracy=0.993455, 3952.751364 samples/s\u001b[0m\n",
      "\u001b[31m[Epoch 17 Batch 400] Training: accuracy=0.993342, 4327.683196 samples/s\u001b[0m\n",
      "\u001b[31m[Epoch 17 Batch 500] Training: accuracy=0.993234, 4265.321605 samples/s\u001b[0m\n",
      "\u001b[31m[Epoch 17] Training: accuracy=0.993117\u001b[0m\n",
      "\u001b[31m[Epoch 17] Validation: accuracy=0.980000\u001b[0m\n",
      "\u001b[31m[Epoch 18 Batch 100] Training: accuracy=0.995248, 4133.581685 samples/s\u001b[0m\n",
      "\u001b[31m[Epoch 18 Batch 200] Training: accuracy=0.994577, 4347.465199 samples/s\u001b[0m\n",
      "\u001b[31m[Epoch 18 Batch 300] Training: accuracy=0.994983, 4377.319738 samples/s\u001b[0m\n",
      "\u001b[31m[Epoch 18 Batch 400] Training: accuracy=0.995087, 4207.895502 samples/s\u001b[0m\n",
      "\u001b[31m[Epoch 18 Batch 500] Training: accuracy=0.994890, 4326.165525 samples/s\u001b[0m\n",
      "\u001b[31m[Epoch 18] Training: accuracy=0.994433\u001b[0m\n",
      "\u001b[31m[Epoch 18] Validation: accuracy=0.978000\u001b[0m\n",
      "\u001b[31m[Epoch 19 Batch 100] Training: accuracy=0.994752, 4990.545541 samples/s\u001b[0m\n",
      "\u001b[31m[Epoch 19 Batch 200] Training: accuracy=0.994129, 4222.595389 samples/s\u001b[0m\n",
      "\u001b[31m[Epoch 19 Batch 300] Training: accuracy=0.994651, 4344.628133 samples/s\u001b[0m\n",
      "\u001b[31m[Epoch 19 Batch 400] Training: accuracy=0.995187, 4341.794768 samples/s\u001b[0m\n",
      "\u001b[31m[Epoch 19 Batch 500] Training: accuracy=0.995469, 4309.629691 samples/s\u001b[0m\n",
      "\u001b[31m[Epoch 19] Training: accuracy=0.995467\u001b[0m\n",
      "\u001b[31m[Epoch 19] Validation: accuracy=0.977100\u001b[0m\n",
      "===== Job Complete =====\n",
      "Billable seconds: 394\n"
     ]
    }
   ],
   "source": [
    "m.fit(inputs)"
   ]
  },
  {
   "cell_type": "markdown",
   "metadata": {},
   "source": [
    "After training, we use the MXNet object to build and deploy an MXNetPredictor object. This creates a SageMaker endpoint that we can use to perform inference. \n",
    "\n",
    "This allows us to perform inference on json encoded multi-dimensional arrays.\n",
    "\n",
    "The deploy method does the following in order:\n",
    "\n",
    "1. Creates an Amazon SageMaker model by calling the CreateModel API. The model that you create in Amazon SageMaker holds information such as location of the model artifacts and the inference code image.\n",
    "\n",
    "2. Creates an endpoint configuration by calling the CreateEndpointConfig API. This configuration holds necessary information including the name of the model (which was created in the preceding step) and the resource configuration (the type and number of ML compute instances to launch for hosting).\n",
    "\n",
    "3. Creates the endpoint by calling the CreateEndpoint API and specifying the endpoint configuration created in the preceding step. Amazon SageMaker launches ML compute instances as specified in the endpoint configuration, and deploys the model on them."
   ]
  },
  {
   "cell_type": "code",
   "execution_count": 7,
   "metadata": {
    "scrolled": true
   },
   "outputs": [
    {
     "name": "stderr",
     "output_type": "stream",
     "text": [
      "INFO:sagemaker:Creating model with name: sagemaker-mxnet-2018-07-20-08-45-48-381\n",
      "INFO:sagemaker:Creating endpoint with name sagemaker-mxnet-2018-07-20-08-45-48-381\n"
     ]
    },
    {
     "name": "stdout",
     "output_type": "stream",
     "text": [
      "---------------------------------------------------------------!"
     ]
    }
   ],
   "source": [
    "predictor = m.deploy(initial_instance_count=1, instance_type='ml.m4.xlarge')"
   ]
  },
  {
   "cell_type": "markdown",
   "metadata": {},
   "source": [
    "We can now use this predictor to classify hand-written digits. Drawing into the image box loads the pixel data into a 'data' variable in this notebook, which we can then pass to the mxnet predictor. "
   ]
  },
  {
   "cell_type": "code",
   "execution_count": 8,
   "metadata": {},
   "outputs": [
    {
     "data": {
      "text/html": [
       "<script type=\"text/Javascript\">\n",
       "    var pixels = [];\n",
       "    for (var i = 0; i < 28*28; i++) pixels[i] = 0;\n",
       "    var click = 0;\n",
       "\n",
       "    var canvas = document.querySelector(\"canvas\");\n",
       "    canvas.addEventListener(\"mousemove\", function(e){\n",
       "        if (e.buttons == 1) {\n",
       "            click = 1;\n",
       "            canvas.getContext(\"2d\").fillStyle = \"rgb(0,0,0)\";\n",
       "            canvas.getContext(\"2d\").fillRect(e.offsetX, e.offsetY, 8, 8);\n",
       "            x = Math.floor(e.offsetY * 0.2);\n",
       "            y = Math.floor(e.offsetX * 0.2) + 1;\n",
       "            for (var dy = 0; dy < 2; dy++){\n",
       "                for (var dx = 0; dx < 2; dx++){\n",
       "                    if ((x + dx < 28) && (y + dy < 28)){\n",
       "                        pixels[(y+dy)+(x+dx)*28] = 1;\n",
       "                    }\n",
       "                }\n",
       "            }\n",
       "        } else {\n",
       "            if (click == 1) set_value();\n",
       "            click = 0;\n",
       "        }\n",
       "    });\n",
       "    function clear_value(){\n",
       "        canvas.getContext(\"2d\").fillStyle = \"rgb(255,255,255)\";\n",
       "        canvas.getContext(\"2d\").fillRect(0, 0, 140, 140);\n",
       "        for (var i = 0; i < 28*28; i++) pixels[i] = 0;\n",
       "    }\n",
       "    \n",
       "    function set_value(){\n",
       "        var result = \"[[\"\n",
       "        for (var i = 0; i < 28; i++) {\n",
       "            result += \"[\"\n",
       "            for (var j = 0; j < 28; j++) {\n",
       "                result += pixels [i * 28 + j]\n",
       "                if (j < 27) {\n",
       "                    result += \", \"\n",
       "                }\n",
       "            }\n",
       "            result += \"]\"\n",
       "            if (i < 27) {\n",
       "                result += \", \"\n",
       "            }\n",
       "        }\n",
       "        result += \"]]\"\n",
       "        var kernel = IPython.notebook.kernel;\n",
       "        kernel.execute(\"data = \" + result)\n",
       "    }\n",
       "</script>\n",
       "<table>\n",
       "<td style=\"border-style: none;\">\n",
       "<div style=\"border: solid 2px #666; width: 143px; height: 144px;\">\n",
       "<canvas width=\"140\" height=\"140\"></canvas>\n",
       "</div></td>\n",
       "<td style=\"border-style: none;\">\n",
       "<button onclick=\"clear_value()\">Clear</button>\n",
       "</td>\n",
       "</table>\n",
       "\n",
       "<!-- This work has been modified from the original and is licensed under the Apache 2.0 License. -->\n",
       "\n",
       "<!--\n",
       "                                     Apache License\n",
       "                           Version 2.0, January 2004\n",
       "                        http://www.apache.org/licenses/\n",
       "\n",
       "   TERMS AND CONDITIONS FOR USE, REPRODUCTION, AND DISTRIBUTION\n",
       "\n",
       "   1. Definitions.\n",
       "\n",
       "      \"License\" shall mean the terms and conditions for use, reproduction,\n",
       "      and distribution as defined by Sections 1 through 9 of this document.\n",
       "\n",
       "      \"Licensor\" shall mean the copyright owner or entity authorized by\n",
       "      the copyright owner that is granting the License.\n",
       "\n",
       "      \"Legal Entity\" shall mean the union of the acting entity and all\n",
       "      other entities that control, are controlled by, or are under common\n",
       "      control with that entity. For the purposes of this definition,\n",
       "      \"control\" means (i) the power, direct or indirect, to cause the\n",
       "      direction or management of such entity, whether by contract or\n",
       "      otherwise, or (ii) ownership of fifty percent (50%) or more of the\n",
       "      outstanding shares, or (iii) beneficial ownership of such entity.\n",
       "\n",
       "      \"You\" (or \"Your\") shall mean an individual or Legal Entity\n",
       "      exercising permissions granted by this License.\n",
       "\n",
       "      \"Source\" form shall mean the preferred form for making modifications,\n",
       "      including but not limited to software source code, documentation\n",
       "      source, and configuration files.\n",
       "\n",
       "      \"Object\" form shall mean any form resulting from mechanical\n",
       "      transformation or translation of a Source form, including but\n",
       "      not limited to compiled object code, generated documentation,\n",
       "      and conversions to other media types.\n",
       "\n",
       "      \"Work\" shall mean the work of authorship, whether in Source or\n",
       "      Object form, made available under the License, as indicated by a\n",
       "      copyright notice that is included in or attached to the work\n",
       "      (an example is provided in the Appendix below).\n",
       "\n",
       "      \"Derivative Works\" shall mean any work, whether in Source or Object\n",
       "      form, that is based on (or derived from) the Work and for which the\n",
       "      editorial revisions, annotations, elaborations, or other modifications\n",
       "      represent, as a whole, an original work of authorship. For the purposes\n",
       "      of this License, Derivative Works shall not include works that remain\n",
       "      separable from, or merely link (or bind by name) to the interfaces of,\n",
       "      the Work and Derivative Works thereof.\n",
       "\n",
       "      \"Contribution\" shall mean any work of authorship, including\n",
       "      the original version of the Work and any modifications or additions\n",
       "      to that Work or Derivative Works thereof, that is intentionally\n",
       "      submitted to Licensor for inclusion in the Work by the copyright owner\n",
       "      or by an individual or Legal Entity authorized to submit on behalf of\n",
       "      the copyright owner. For the purposes of this definition, \"submitted\"\n",
       "      means any form of electronic, verbal, or written communication sent\n",
       "      to the Licensor or its representatives, including but not limited to\n",
       "      communication on electronic mailing lists, source code control systems,\n",
       "      and issue tracking systems that are managed by, or on behalf of, the\n",
       "      Licensor for the purpose of discussing and improving the Work, but\n",
       "      excluding communication that is conspicuously marked or otherwise\n",
       "      designated in writing by the copyright owner as \"Not a Contribution.\"\n",
       "\n",
       "      \"Contributor\" shall mean Licensor and any individual or Legal Entity\n",
       "      on behalf of whom a Contribution has been received by Licensor and\n",
       "      subsequently incorporated within the Work.\n",
       "\n",
       "   2. Grant of Copyright License. Subject to the terms and conditions of\n",
       "      this License, each Contributor hereby grants to You a perpetual,\n",
       "      worldwide, non-exclusive, no-charge, royalty-free, irrevocable\n",
       "      copyright license to reproduce, prepare Derivative Works of,\n",
       "      publicly display, publicly perform, sublicense, and distribute the\n",
       "      Work and such Derivative Works in Source or Object form.\n",
       "\n",
       "   3. Grant of Patent License. Subject to the terms and conditions of\n",
       "      this License, each Contributor hereby grants to You a perpetual,\n",
       "      worldwide, non-exclusive, no-charge, royalty-free, irrevocable\n",
       "      (except as stated in this section) patent license to make, have made,\n",
       "      use, offer to sell, sell, import, and otherwise transfer the Work,\n",
       "      where such license applies only to those patent claims licensable\n",
       "      by such Contributor that are necessarily infringed by their\n",
       "      Contribution(s) alone or by combination of their Contribution(s)\n",
       "      with the Work to which such Contribution(s) was submitted. If You\n",
       "      institute patent litigation against any entity (including a\n",
       "      cross-claim or counterclaim in a lawsuit) alleging that the Work\n",
       "      or a Contribution incorporated within the Work constitutes direct\n",
       "      or contributory patent infringement, then any patent licenses\n",
       "      granted to You under this License for that Work shall terminate\n",
       "      as of the date such litigation is filed.\n",
       "\n",
       "   4. Redistribution. You may reproduce and distribute copies of the\n",
       "      Work or Derivative Works thereof in any medium, with or without\n",
       "      modifications, and in Source or Object form, provided that You\n",
       "      meet the following conditions:\n",
       "\n",
       "      (a) You must give any other recipients of the Work or\n",
       "          Derivative Works a copy of this License; and\n",
       "\n",
       "      (b) You must cause any modified files to carry prominent notices\n",
       "          stating that You changed the files; and\n",
       "\n",
       "      (c) You must retain, in the Source form of any Derivative Works\n",
       "          that You distribute, all copyright, patent, trademark, and\n",
       "          attribution notices from the Source form of the Work,\n",
       "          excluding those notices that do not pertain to any part of\n",
       "          the Derivative Works; and\n",
       "\n",
       "      (d) If the Work includes a \"NOTICE\" text file as part of its\n",
       "          distribution, then any Derivative Works that You distribute must\n",
       "          include a readable copy of the attribution notices contained\n",
       "          within such NOTICE file, excluding those notices that do not\n",
       "          pertain to any part of the Derivative Works, in at least one\n",
       "          of the following places: within a NOTICE text file distributed\n",
       "          as part of the Derivative Works; within the Source form or\n",
       "          documentation, if provided along with the Derivative Works; or,\n",
       "          within a display generated by the Derivative Works, if and\n",
       "          wherever such third-party notices normally appear. The contents\n",
       "          of the NOTICE file are for informational purposes only and\n",
       "          do not modify the License. You may add Your own attribution\n",
       "          notices within Derivative Works that You distribute, alongside\n",
       "          or as an addendum to the NOTICE text from the Work, provided\n",
       "          that such additional attribution notices cannot be construed\n",
       "          as modifying the License.\n",
       "\n",
       "      You may add Your own copyright statement to Your modifications and\n",
       "      may provide additional or different license terms and conditions\n",
       "      for use, reproduction, or distribution of Your modifications, or\n",
       "      for any such Derivative Works as a whole, provided Your use,\n",
       "      reproduction, and distribution of the Work otherwise complies with\n",
       "      the conditions stated in this License.\n",
       "\n",
       "   5. Submission of Contributions. Unless You explicitly state otherwise,\n",
       "      any Contribution intentionally submitted for inclusion in the Work\n",
       "      by You to the Licensor shall be under the terms and conditions of\n",
       "      this License, without any additional terms or conditions.\n",
       "      Notwithstanding the above, nothing herein shall supersede or modify\n",
       "      the terms of any separate license agreement you may have executed\n",
       "      with Licensor regarding such Contributions.\n",
       "\n",
       "   6. Trademarks. This License does not grant permission to use the trade\n",
       "      names, trademarks, service marks, or product names of the Licensor,\n",
       "      except as required for reasonable and customary use in describing the\n",
       "      origin of the Work and reproducing the content of the NOTICE file.\n",
       "\n",
       "   7. Disclaimer of Warranty. Unless required by applicable law or\n",
       "      agreed to in writing, Licensor provides the Work (and each\n",
       "      Contributor provides its Contributions) on an \"AS IS\" BASIS,\n",
       "      WITHOUT WARRANTIES OR CONDITIONS OF ANY KIND, either express or\n",
       "      implied, including, without limitation, any warranties or conditions\n",
       "      of TITLE, NON-INFRINGEMENT, MERCHANTABILITY, or FITNESS FOR A\n",
       "      PARTICULAR PURPOSE. You are solely responsible for determining the\n",
       "      appropriateness of using or redistributing the Work and assume any\n",
       "      risks associated with Your exercise of permissions under this License.\n",
       "\n",
       "   8. Limitation of Liability. In no event and under no legal theory,\n",
       "      whether in tort (including negligence), contract, or otherwise,\n",
       "      unless required by applicable law (such as deliberate and grossly\n",
       "      negligent acts) or agreed to in writing, shall any Contributor be\n",
       "      liable to You for damages, including any direct, indirect, special,\n",
       "      incidental, or consequential damages of any character arising as a\n",
       "      result of this License or out of the use or inability to use the\n",
       "      Work (including but not limited to damages for loss of goodwill,\n",
       "      work stoppage, computer failure or malfunction, or any and all\n",
       "      other commercial damages or losses), even if such Contributor\n",
       "      has been advised of the possibility of such damages.\n",
       "\n",
       "   9. Accepting Warranty or Additional Liability. While redistributing\n",
       "      the Work or Derivative Works thereof, You may choose to offer,\n",
       "      and charge a fee for, acceptance of support, warranty, indemnity,\n",
       "      or other liability obligations and/or rights consistent with this\n",
       "      License. However, in accepting such obligations, You may act only\n",
       "      on Your own behalf and on Your sole responsibility, not on behalf\n",
       "      of any other Contributor, and only if You agree to indemnify,\n",
       "      defend, and hold each Contributor harmless for any liability\n",
       "      incurred by, or claims asserted against, such Contributor by reason\n",
       "      of your accepting any such warranty or additional liability.\n",
       "\n",
       "   END OF TERMS AND CONDITIONS\n",
       "\n",
       "   APPENDIX: How to apply the Apache License to your work.\n",
       "\n",
       "      To apply the Apache License to your work, attach the following\n",
       "      boilerplate notice, with the fields enclosed by brackets \"{}\"\n",
       "      replaced with your own identifying information. (Don't include\n",
       "      the brackets!)  The text should be enclosed in the appropriate\n",
       "      comment syntax for the file format. We also recommend that a\n",
       "      file or class name and description of purpose be included on the\n",
       "      same \"printed page\" as the copyright notice for easier\n",
       "      identification within third-party archives.\n",
       "\n",
       "   Copyright {yyyy} {name of copyright owner}\n",
       "\n",
       "   Licensed under the Apache License, Version 2.0 (the \"License\");\n",
       "   you may not use this file except in compliance with the License.\n",
       "   You may obtain a copy of the License at\n",
       "\n",
       "       http://www.apache.org/licenses/LICENSE-2.0\n",
       "\n",
       "   Unless required by applicable law or agreed to in writing, software\n",
       "   distributed under the License is distributed on an \"AS IS\" BASIS,\n",
       "   WITHOUT WARRANTIES OR CONDITIONS OF ANY KIND, either express or implied.\n",
       "   See the License for the specific language governing permissions and\n",
       "   limitations under the License.\n",
       "-->\n",
       "\n",
       "\n",
       "\n"
      ],
      "text/plain": [
       "<IPython.core.display.HTML object>"
      ]
     },
     "execution_count": 8,
     "metadata": {},
     "output_type": "execute_result"
    }
   ],
   "source": [
    "from IPython.display import HTML\n",
    "HTML(open(\"input.html\").read())"
   ]
  },
  {
   "cell_type": "markdown",
   "metadata": {},
   "source": [
    "The predictor runs inference on our input data and returns the predicted digit (as a float value, so we convert to int for display)."
   ]
  },
  {
   "cell_type": "code",
   "execution_count": 11,
   "metadata": {
    "scrolled": true
   },
   "outputs": [
    {
     "name": "stdout",
     "output_type": "stream",
     "text": [
      "2\n"
     ]
    }
   ],
   "source": [
    "response = predictor.predict(data)\n",
    "print int(response)"
   ]
  },
  {
   "cell_type": "markdown",
   "metadata": {},
   "source": [
    "### Cleanup\n",
    "\n",
    "After you have finished with this example, remember to delete the prediction endpoint to release the instance(s) associated with it."
   ]
  },
  {
   "cell_type": "code",
   "execution_count": 12,
   "metadata": {},
   "outputs": [
    {
     "name": "stderr",
     "output_type": "stream",
     "text": [
      "INFO:sagemaker:Deleting endpoint with name: sagemaker-mxnet-2018-07-20-08-45-48-381\n"
     ]
    }
   ],
   "source": [
    "sagemaker.Session().delete_endpoint(predictor.endpoint)"
   ]
  },
  {
   "cell_type": "markdown",
   "metadata": {},
   "source": [
    "## <span style=\"color:blue\"> Section 2: Deploying from S3\n",
    "\n",
    "Amazon SageMaker saves and stores the artifacts in S3. In the case where you have already trained a model elsewhere, it is relatively straightforward to upload the model artifacts to S3 and deploy the model using Amazon SageMaker.\n",
    "\n",
    "In this case the model trained in the previous section will be used. We will create a model using the [sagemaker.mxnet.model.MXNetModel](http://sagemaker.readthedocs.io/en/latest/sagemaker.mxnet.html#mxnet-model) function, passing the location in S3 with zipped and archived copy of the model artifacts, and then deploy it using S3."
   ]
  },
  {
   "cell_type": "markdown",
   "metadata": {},
   "source": [
    "### Locate the model artifacts in S3\n",
    "\n",
    "The model in the previous section saved the artifacts including the parameters and model declaration in S3. This will be in the default bucket which SageMaker has access to used by the notebook. Locate this bucket and scroll down to find the latest folder that was added. Inside this folder under 'output' you will find a 'model.tar.gz' file. Download this, unpack it, and have a look at the contents. Here is and example path:\n",
    "\n",
    "bucket-name/sagemaker-mxnet-2018-07-20-08-45-48-381/output/model.tar.gz\n",
    "\n",
    "Two files are contained:\n",
    "\n",
    "* model.json - The declaration of the network\n",
    "* model.params - The trained parameters of the model\n",
    "\n",
    "#### Copy the model artifacts to a new location\n",
    "\n",
    "Choose a location in S3 and copy the model.tar.gz into this folder. Take a note of the bucket name and the path to the file within the bucket."
   ]
  },
  {
   "cell_type": "markdown",
   "metadata": {},
   "source": [
    "#### Load the model using MXNetModel\n",
    "\n",
    "Load model from S3 using [sagemaker.mxnet.model.MXNetModel](http://sagemaker.readthedocs.io/en/latest/sagemaker.mxnet.html#mxnet-model). Enter below under model_data the bucket and path of the file noted in the previous step."
   ]
  },
  {
   "cell_type": "code",
   "execution_count": 31,
   "metadata": {},
   "outputs": [],
   "source": [
    "from sagemaker.mxnet.model import MXNetModel\n",
    "\n",
    "model_data = 's3://sagemaker-eu-west-1-987551451182/sagemaker-mxnet-2018-07-20-08-45-48-381/output/model.tar.gz'\n",
    "\n",
    "m2 = MXNetModel(model_data, role, \"mnist.py\")"
   ]
  },
  {
   "cell_type": "code",
   "execution_count": 22,
   "metadata": {},
   "outputs": [
    {
     "name": "stderr",
     "output_type": "stream",
     "text": [
      "INFO:sagemaker:Creating model with name: sagemaker-mxnet-2018-07-20-08-45-48-381\n"
     ]
    },
    {
     "ename": "ClientError",
     "evalue": "An error occurred (ValidationException) when calling the CreateModel operation: Cannot create already existing model \"arn:aws:sagemaker:eu-west-1:987551451182:model/sagemaker-mxnet-2018-07-20-08-45-48-381\".",
     "output_type": "error",
     "traceback": [
      "\u001b[0;31m\u001b[0m",
      "\u001b[0;31mClientError\u001b[0mTraceback (most recent call last)",
      "\u001b[0;32m<ipython-input-22-7a7703186eea>\u001b[0m in \u001b[0;36m<module>\u001b[0;34m()\u001b[0m\n\u001b[0;32m----> 1\u001b[0;31m \u001b[0mpredictor\u001b[0m \u001b[0;34m=\u001b[0m \u001b[0mm\u001b[0m\u001b[0;34m.\u001b[0m\u001b[0mdeploy\u001b[0m\u001b[0;34m(\u001b[0m\u001b[0minitial_instance_count\u001b[0m\u001b[0;34m=\u001b[0m\u001b[0;36m1\u001b[0m\u001b[0;34m,\u001b[0m \u001b[0minstance_type\u001b[0m\u001b[0;34m=\u001b[0m\u001b[0;34m'ml.m4.xlarge'\u001b[0m\u001b[0;34m)\u001b[0m\u001b[0;34m\u001b[0m\u001b[0m\n\u001b[0m",
      "\u001b[0;32m/home/ec2-user/anaconda3/envs/mxnet_p27/lib/python2.7/site-packages/sagemaker/estimator.pyc\u001b[0m in \u001b[0;36mdeploy\u001b[0;34m(self, initial_instance_count, instance_type, endpoint_name, **kwargs)\u001b[0m\n\u001b[1;32m    261\u001b[0m             \u001b[0minstance_type\u001b[0m\u001b[0;34m=\u001b[0m\u001b[0minstance_type\u001b[0m\u001b[0;34m,\u001b[0m\u001b[0;34m\u001b[0m\u001b[0m\n\u001b[1;32m    262\u001b[0m             \u001b[0minitial_instance_count\u001b[0m\u001b[0;34m=\u001b[0m\u001b[0minitial_instance_count\u001b[0m\u001b[0;34m,\u001b[0m\u001b[0;34m\u001b[0m\u001b[0m\n\u001b[0;32m--> 263\u001b[0;31m             endpoint_name=endpoint_name)\n\u001b[0m\u001b[1;32m    264\u001b[0m \u001b[0;34m\u001b[0m\u001b[0m\n\u001b[1;32m    265\u001b[0m     \u001b[0;34m@\u001b[0m\u001b[0mproperty\u001b[0m\u001b[0;34m\u001b[0m\u001b[0m\n",
      "\u001b[0;32m/home/ec2-user/anaconda3/envs/mxnet_p27/lib/python2.7/site-packages/sagemaker/model.pyc\u001b[0m in \u001b[0;36mdeploy\u001b[0;34m(self, initial_instance_count, instance_type, endpoint_name, tags)\u001b[0m\n\u001b[1;32m     97\u001b[0m         \u001b[0mcontainer_def\u001b[0m \u001b[0;34m=\u001b[0m \u001b[0mself\u001b[0m\u001b[0;34m.\u001b[0m\u001b[0mprepare_container_def\u001b[0m\u001b[0;34m(\u001b[0m\u001b[0minstance_type\u001b[0m\u001b[0;34m)\u001b[0m\u001b[0;34m\u001b[0m\u001b[0m\n\u001b[1;32m     98\u001b[0m         \u001b[0mmodel_name\u001b[0m \u001b[0;34m=\u001b[0m \u001b[0mself\u001b[0m\u001b[0;34m.\u001b[0m\u001b[0mname\u001b[0m \u001b[0;32mor\u001b[0m \u001b[0mname_from_image\u001b[0m\u001b[0;34m(\u001b[0m\u001b[0mcontainer_def\u001b[0m\u001b[0;34m[\u001b[0m\u001b[0;34m'Image'\u001b[0m\u001b[0;34m]\u001b[0m\u001b[0;34m)\u001b[0m\u001b[0;34m\u001b[0m\u001b[0m\n\u001b[0;32m---> 99\u001b[0;31m         \u001b[0mself\u001b[0m\u001b[0;34m.\u001b[0m\u001b[0msagemaker_session\u001b[0m\u001b[0;34m.\u001b[0m\u001b[0mcreate_model\u001b[0m\u001b[0;34m(\u001b[0m\u001b[0mmodel_name\u001b[0m\u001b[0;34m,\u001b[0m \u001b[0mself\u001b[0m\u001b[0;34m.\u001b[0m\u001b[0mrole\u001b[0m\u001b[0;34m,\u001b[0m \u001b[0mcontainer_def\u001b[0m\u001b[0;34m)\u001b[0m\u001b[0;34m\u001b[0m\u001b[0m\n\u001b[0m\u001b[1;32m    100\u001b[0m         \u001b[0mproduction_variant\u001b[0m \u001b[0;34m=\u001b[0m \u001b[0msagemaker\u001b[0m\u001b[0;34m.\u001b[0m\u001b[0mproduction_variant\u001b[0m\u001b[0;34m(\u001b[0m\u001b[0mmodel_name\u001b[0m\u001b[0;34m,\u001b[0m \u001b[0minstance_type\u001b[0m\u001b[0;34m,\u001b[0m \u001b[0minitial_instance_count\u001b[0m\u001b[0;34m)\u001b[0m\u001b[0;34m\u001b[0m\u001b[0m\n\u001b[1;32m    101\u001b[0m         \u001b[0mself\u001b[0m\u001b[0;34m.\u001b[0m\u001b[0mendpoint_name\u001b[0m \u001b[0;34m=\u001b[0m \u001b[0mendpoint_name\u001b[0m \u001b[0;32mor\u001b[0m \u001b[0mmodel_name\u001b[0m\u001b[0;34m\u001b[0m\u001b[0m\n",
      "\u001b[0;32m/home/ec2-user/anaconda3/envs/mxnet_p27/lib/python2.7/site-packages/sagemaker/session.pyc\u001b[0m in \u001b[0;36mcreate_model\u001b[0;34m(self, name, role, primary_container)\u001b[0m\n\u001b[1;32m    448\u001b[0m         self.sagemaker_client.create_model(ModelName=name,\n\u001b[1;32m    449\u001b[0m                                            \u001b[0mPrimaryContainer\u001b[0m\u001b[0;34m=\u001b[0m\u001b[0mprimary_container\u001b[0m\u001b[0;34m,\u001b[0m\u001b[0;34m\u001b[0m\u001b[0m\n\u001b[0;32m--> 450\u001b[0;31m                                            ExecutionRoleArn=role)\n\u001b[0m\u001b[1;32m    451\u001b[0m \u001b[0;34m\u001b[0m\u001b[0m\n\u001b[1;32m    452\u001b[0m         \u001b[0;32mreturn\u001b[0m \u001b[0mname\u001b[0m\u001b[0;34m\u001b[0m\u001b[0m\n",
      "\u001b[0;32m/home/ec2-user/anaconda3/envs/mxnet_p27/lib/python2.7/site-packages/botocore/client.pyc\u001b[0m in \u001b[0;36m_api_call\u001b[0;34m(self, *args, **kwargs)\u001b[0m\n\u001b[1;32m    312\u001b[0m                     \"%s() only accepts keyword arguments.\" % py_operation_name)\n\u001b[1;32m    313\u001b[0m             \u001b[0;31m# The \"self\" in this scope is referring to the BaseClient.\u001b[0m\u001b[0;34m\u001b[0m\u001b[0;34m\u001b[0m\u001b[0m\n\u001b[0;32m--> 314\u001b[0;31m             \u001b[0;32mreturn\u001b[0m \u001b[0mself\u001b[0m\u001b[0;34m.\u001b[0m\u001b[0m_make_api_call\u001b[0m\u001b[0;34m(\u001b[0m\u001b[0moperation_name\u001b[0m\u001b[0;34m,\u001b[0m \u001b[0mkwargs\u001b[0m\u001b[0;34m)\u001b[0m\u001b[0;34m\u001b[0m\u001b[0m\n\u001b[0m\u001b[1;32m    315\u001b[0m \u001b[0;34m\u001b[0m\u001b[0m\n\u001b[1;32m    316\u001b[0m         \u001b[0m_api_call\u001b[0m\u001b[0;34m.\u001b[0m\u001b[0m__name__\u001b[0m \u001b[0;34m=\u001b[0m \u001b[0mstr\u001b[0m\u001b[0;34m(\u001b[0m\u001b[0mpy_operation_name\u001b[0m\u001b[0;34m)\u001b[0m\u001b[0;34m\u001b[0m\u001b[0m\n",
      "\u001b[0;32m/home/ec2-user/anaconda3/envs/mxnet_p27/lib/python2.7/site-packages/botocore/client.pyc\u001b[0m in \u001b[0;36m_make_api_call\u001b[0;34m(self, operation_name, api_params)\u001b[0m\n\u001b[1;32m    610\u001b[0m             \u001b[0merror_code\u001b[0m \u001b[0;34m=\u001b[0m \u001b[0mparsed_response\u001b[0m\u001b[0;34m.\u001b[0m\u001b[0mget\u001b[0m\u001b[0;34m(\u001b[0m\u001b[0;34m\"Error\"\u001b[0m\u001b[0;34m,\u001b[0m \u001b[0;34m{\u001b[0m\u001b[0;34m}\u001b[0m\u001b[0;34m)\u001b[0m\u001b[0;34m.\u001b[0m\u001b[0mget\u001b[0m\u001b[0;34m(\u001b[0m\u001b[0;34m\"Code\"\u001b[0m\u001b[0;34m)\u001b[0m\u001b[0;34m\u001b[0m\u001b[0m\n\u001b[1;32m    611\u001b[0m             \u001b[0merror_class\u001b[0m \u001b[0;34m=\u001b[0m \u001b[0mself\u001b[0m\u001b[0;34m.\u001b[0m\u001b[0mexceptions\u001b[0m\u001b[0;34m.\u001b[0m\u001b[0mfrom_code\u001b[0m\u001b[0;34m(\u001b[0m\u001b[0merror_code\u001b[0m\u001b[0;34m)\u001b[0m\u001b[0;34m\u001b[0m\u001b[0m\n\u001b[0;32m--> 612\u001b[0;31m             \u001b[0;32mraise\u001b[0m \u001b[0merror_class\u001b[0m\u001b[0;34m(\u001b[0m\u001b[0mparsed_response\u001b[0m\u001b[0;34m,\u001b[0m \u001b[0moperation_name\u001b[0m\u001b[0;34m)\u001b[0m\u001b[0;34m\u001b[0m\u001b[0m\n\u001b[0m\u001b[1;32m    613\u001b[0m         \u001b[0;32melse\u001b[0m\u001b[0;34m:\u001b[0m\u001b[0;34m\u001b[0m\u001b[0m\n\u001b[1;32m    614\u001b[0m             \u001b[0;32mreturn\u001b[0m \u001b[0mparsed_response\u001b[0m\u001b[0;34m\u001b[0m\u001b[0m\n",
      "\u001b[0;31mClientError\u001b[0m: An error occurred (ValidationException) when calling the CreateModel operation: Cannot create already existing model \"arn:aws:sagemaker:eu-west-1:987551451182:model/sagemaker-mxnet-2018-07-20-08-45-48-381\"."
     ]
    }
   ],
   "source": [
    "predictor = m2.deploy(initial_instance_count=1, instance_type='ml.m4.xlarge')"
   ]
  },
  {
   "cell_type": "markdown",
   "metadata": {},
   "source": [
    "This will fail. This is because you already have a model set up with the same configuration. How do you think it knows that it is the same model? Go to the Amazon SageMaker console and find the model under Inference -> Models and copy the arn of the model. Use it in the code below to delete the model using the last part of the arn after the forward slash:"
   ]
  },
  {
   "cell_type": "code",
   "execution_count": 44,
   "metadata": {},
   "outputs": [
    {
     "data": {
      "text/plain": [
       "{'ResponseMetadata': {'HTTPHeaders': {'content-length': '0',\n",
       "   'content-type': 'application/x-amz-json-1.1',\n",
       "   'date': 'Fri, 20 Jul 2018 12:45:37 GMT',\n",
       "   'x-amzn-requestid': '14b5adab-9e3d-4299-a6f6-5b14e9a17d47'},\n",
       "  'HTTPStatusCode': 200,\n",
       "  'RequestId': '14b5adab-9e3d-4299-a6f6-5b14e9a17d47',\n",
       "  'RetryAttempts': 0}}"
      ]
     },
     "execution_count": 44,
     "metadata": {},
     "output_type": "execute_result"
    }
   ],
   "source": [
    "import boto3\n",
    "sm = boto3.client('sagemaker')\n",
    "sm.delete_model(ModelName='sagemaker-mxnet-2018-07-20-12-33-35-466')"
   ]
  },
  {
   "cell_type": "markdown",
   "metadata": {},
   "source": [
    "Deleting the model does not delete the artifacts stored in S3. Now try to create the model again:"
   ]
  },
  {
   "cell_type": "code",
   "execution_count": 38,
   "metadata": {},
   "outputs": [
    {
     "name": "stderr",
     "output_type": "stream",
     "text": [
      "INFO:sagemaker:Creating model with name: sagemaker-mxnet-2018-07-20-12-37-14-916\n",
      "INFO:sagemaker:Creating endpoint with name sagemaker-mxnet-2018-07-20-12-37-14-916\n"
     ]
    },
    {
     "name": "stdout",
     "output_type": "stream",
     "text": [
      "---------------------------------------------------!"
     ]
    }
   ],
   "source": [
    "p2 = m2.deploy(initial_instance_count=1, instance_type='ml.m4.xlarge')"
   ]
  },
  {
   "cell_type": "markdown",
   "metadata": {},
   "source": [
    "Use the same input you drew in the box above and score against this new endpoint:"
   ]
  },
  {
   "cell_type": "code",
   "execution_count": 40,
   "metadata": {},
   "outputs": [
    {
     "name": "stdout",
     "output_type": "stream",
     "text": [
      "2\n"
     ]
    }
   ],
   "source": [
    "response = p2.predict(data)\n",
    "print int(response)"
   ]
  },
  {
   "cell_type": "markdown",
   "metadata": {},
   "source": [
    "### Cleanup\n",
    "\n",
    "After you have finished with this example, remember to delete the prediction endpoint to release the instance(s) associated with it."
   ]
  },
  {
   "cell_type": "code",
   "execution_count": 41,
   "metadata": {},
   "outputs": [
    {
     "name": "stderr",
     "output_type": "stream",
     "text": [
      "INFO:sagemaker:Deleting endpoint with name: sagemaker-mxnet-2018-07-20-12-37-14-916\n"
     ]
    }
   ],
   "source": [
    "sagemaker.Session().delete_endpoint(p2.endpoint)"
   ]
  },
  {
   "cell_type": "markdown",
   "metadata": {},
   "source": [
    "## <span style=\"color:blue\"> Section 3: Deploying using a customer Docker container.\n",
    "\n",
    "Deploying using a customer docker container. This is covered in a separate lab [scikitlearn bring your own](../scikit_bring_your_own/scikit_bring_your_own.ipynb) where a Docker container is built and deployed to ECS, trained, and then a SageMaker endpoint is deployed."
   ]
  },
  {
   "cell_type": "code",
   "execution_count": null,
   "metadata": {},
   "outputs": [],
   "source": []
  }
 ],
 "metadata": {
  "kernelspec": {
   "display_name": "conda_mxnet_p27",
   "language": "python",
   "name": "conda_mxnet_p27"
  },
  "language_info": {
   "codemirror_mode": {
    "name": "ipython",
    "version": 2
   },
   "file_extension": ".py",
   "mimetype": "text/x-python",
   "name": "python",
   "nbconvert_exporter": "python",
   "pygments_lexer": "ipython2",
   "version": "2.7.14"
  },
  "notice": "Copyright 2017 Amazon.com, Inc. or its affiliates. All Rights Reserved.  Licensed under the Apache License, Version 2.0 (the \"License\"). You may not use this file except in compliance with the License. A copy of the License is located at http://aws.amazon.com/apache2.0/ or in the \"license\" file accompanying this file. This file is distributed on an \"AS IS\" BASIS, WITHOUT WARRANTIES OR CONDITIONS OF ANY KIND, either express or implied. See the License for the specific language governing permissions and limitations under the License."
 },
 "nbformat": 4,
 "nbformat_minor": 2
}
