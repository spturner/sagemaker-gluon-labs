{
 "cells": [
  {
   "cell_type": "markdown",
   "metadata": {
    "slideshow": {
     "slide_type": "slide"
    }
   },
   "source": [
    "Getting Started with FCN Pre-trained Models\n",
    "=============================================="
   ]
  },
  {
   "cell_type": "markdown",
   "metadata": {
    "slideshow": {
     "slide_type": "notes"
    }
   },
   "source": [
    "This is a quick demo of using GluonCV FCN model.\n",
    "Please follow the `installation guide <../index.html>`_ to install MXNet and GluonCV if not yet."
   ]
  },
  {
   "cell_type": "code",
   "execution_count": 1,
   "metadata": {
    "slideshow": {
     "slide_type": "fragment"
    }
   },
   "outputs": [],
   "source": [
    "%matplotlib inline\n",
    "from matplotlib import pyplot as plt\n",
    "import matplotlib.image as mpimg\n",
    "\n",
    "import random, multiprocessing, time\n",
    "\n",
    "import mxnet as mx\n",
    "from mxnet import image\n",
    "from mxnet.gluon.data.vision import transforms\n",
    "from mxnet import gluon, autograd\n",
    "from mxnet.gluon import nn\n",
    "\n",
    "from mxboard import SummaryWriter\n",
    "\n",
    "import numpy as np\n",
    "\n",
    "import gluoncv\n",
    "from gluoncv.utils.parallel import *\n",
    "from gluoncv.utils.viz import get_color_pallete, DeNormalize"
   ]
  },
  {
   "cell_type": "markdown",
   "metadata": {
    "slideshow": {
     "slide_type": "slide"
    }
   },
   "source": [
    "Train FCN on Pascal VOC Dataset\n",
    "==================================\n",
    "\n",
    "The PASCAL Visual Object Classes \n",
    "http://host.robots.ox.ac.uk/pascal/VOC/\n",
    "20 classes"
   ]
  },
  {
   "cell_type": "markdown",
   "metadata": {},
   "source": [
    "\n",
    "Multi-Scale Context Aggregation by Dilated Convolutions, Fisher Yu, Vladlen Koltun, ICLR2016\n",
    "\n",
    "![](https://github.com/aleju/papers/raw/master/neural-nets/images/Multi-Scale_Context_Aggregation_by_Dilated_Convolutions__receptive.png?raw=true)"
   ]
  },
  {
   "cell_type": "markdown",
   "metadata": {
    "slideshow": {
     "slide_type": "notes"
    }
   },
   "source": [
    "State-of-the-art approaches of semantic segmentation are typically based on\n",
    "Fully Convolutional Network (FCN) [Long15]_.\n",
    "The key idea of a fully convolutional network is that it is \"fully convolutional\",\n",
    "which means it does have any fully connected layers. Therefore, the network can\n",
    "accept arbitrary input size and make dense per-pixel predictions.\n",
    "Base/Encoder network is typically pre-trained on ImageNet, because the features\n",
    "learned from diverse set of images contain rich contextual information, which\n",
    "can be beneficial for semantic segmentation."
   ]
  },
  {
   "cell_type": "markdown",
   "metadata": {
    "slideshow": {
     "slide_type": "slide"
    }
   },
   "source": [
    "Model Dilation\n",
    "--------------\n",
    "\n",
    "\n",
    "Visualization of dilated/atrous convolution\n",
    "\n",
    "\n",
    "![](https://raw.githubusercontent.com/vdumoulin/conv_arithmetic/master/gif/dilation.gif)\n",
    "\n",
    "figure credit to [conv_arithmetic](https://github.com/vdumoulin/conv_arithmetic)\n"
   ]
  },
  {
   "cell_type": "markdown",
   "metadata": {
    "slideshow": {
     "slide_type": "slide"
    }
   },
   "source": [
    "FCN Model\n",
    "---------\n"
   ]
  },
  {
   "cell_type": "code",
   "execution_count": 2,
   "metadata": {},
   "outputs": [],
   "source": [
    "nclasses = len(gluoncv.data.VOCSegmentation().classes)"
   ]
  },
  {
   "cell_type": "code",
   "execution_count": 3,
   "metadata": {
    "slideshow": {
     "slide_type": "fragment"
    }
   },
   "outputs": [],
   "source": [
    "class FCN(nn.HybridBlock):\n",
    "    def __init__(self, resnet_backbone, nclass):\n",
    "        super(FCN, self).__init__()\n",
    "        self.backbone = resnet_backbone \n",
    "        in_channels = 2048\n",
    "        with self.name_scope():\n",
    "            self.head = nn.HybridSequential()\n",
    "            inter_channels = in_channels // 4\n",
    "            self.head.add(nn.Conv2D(in_channels=in_channels, channels=inter_channels,\n",
    "                                     kernel_size=3, padding=1))\n",
    "            self.head.add(nn.BatchNorm(in_channels=inter_channels))\n",
    "            self.head.add(nn.Activation('relu'))\n",
    "            self.head.add(nn.Dropout(0.1))\n",
    "            self.head.add(nn.Conv2D(in_channels=inter_channels, channels=nclass,\n",
    "                                     kernel_size=1))\n",
    "        \n",
    "    def hybrid_forward(self, F, x):\n",
    "        # run through backbone\n",
    "        x = self.backbone.conv1(x)\n",
    "        x = self.backbone.bn1(x)\n",
    "        x = self.backbone.relu(x)\n",
    "        x = self.backbone.maxpool(x)\n",
    "        x = self.backbone.layer1(x)\n",
    "        x = self.backbone.layer2(x)\n",
    "        c3 = self.backbone.layer3(x)\n",
    "        c4 = self.backbone.layer4(c3)\n",
    "\n",
    "        #run through head\n",
    "        y = self.head(c4)\n",
    "\n",
    "        #resize\n",
    "        y = F.contrib.BilinearResize2D(y, height=480,width=480)\n",
    "        return y"
   ]
  },
  {
   "cell_type": "code",
   "execution_count": 4,
   "metadata": {
    "slideshow": {
     "slide_type": "slide"
    }
   },
   "outputs": [
    {
     "name": "stderr",
     "output_type": "stream",
     "text": [
      "/home/ubuntu/anaconda3/lib/python3.6/site-packages/mxnet/gluon/block.py:415: UserWarning: load_params is deprecated. Please use load_parameters.\n",
      "  warnings.warn(\"load_params is deprecated. Please use load_parameters.\")\n"
     ]
    }
   ],
   "source": [
    "ctx_list = [mx.gpu(i) for i in range(4)]\n",
    "backbone = gluoncv.model_zoo.resnet50_v1b(pretrained=True, dilated=True, ctx=ctx_list)\n",
    "del backbone.fc\n",
    "\n",
    "net = FCN(backbone, nclasses)\n",
    "\n",
    "# Initialize the head\n",
    "net.head.collect_params().setattr('lr_mult', 10)\n",
    "net.head.initialize(mx.init.Xavier(), ctx=ctx_list)"
   ]
  },
  {
   "cell_type": "markdown",
   "metadata": {
    "slideshow": {
     "slide_type": "slide"
    }
   },
   "source": [
    "Dataset and Data Augmentation\n",
    "-----------------------------\n",
    "\n",
    "image transform for color normalization\n",
    "\n"
   ]
  },
  {
   "cell_type": "code",
   "execution_count": 5,
   "metadata": {
    "slideshow": {
     "slide_type": "fragment"
    }
   },
   "outputs": [],
   "source": [
    "input_transform = transforms.Compose([\n",
    "    transforms.ToTensor(),\n",
    "    transforms.Normalize([.485, .456, .406], [.229, .224, .225]),\n",
    "])"
   ]
  },
  {
   "cell_type": "markdown",
   "metadata": {
    "slideshow": {
     "slide_type": "notes"
    }
   },
   "source": [
    "We provide semantic segmentation datasets in :class:`gluoncv.data`.\n",
    "For example, we can easily get the Pascal VOC 2012 dataset:\n",
    "\n"
   ]
  },
  {
   "cell_type": "code",
   "execution_count": 6,
   "metadata": {
    "slideshow": {
     "slide_type": "slide"
    }
   },
   "outputs": [
    {
     "name": "stdout",
     "output_type": "stream",
     "text": [
      "2913\n",
      "1449\n"
     ]
    }
   ],
   "source": [
    "trainset = gluoncv.data.VOCSegmentation(split='train', transform=input_transform)\n",
    "print(len(trainset))\n",
    "valset = gluoncv.data.VOCSegmentation(split='val', transform=input_transform)\n",
    "print(len(valset))"
   ]
  },
  {
   "cell_type": "code",
   "execution_count": 7,
   "metadata": {
    "slideshow": {
     "slide_type": "slide"
    }
   },
   "outputs": [],
   "source": [
    "batch_size = 32\n",
    "# Create Training Loader\n",
    "train_data = gluon.data.DataLoader(trainset, batch_size, shuffle=True, last_batch='rollover', \n",
    "                                   num_workers=multiprocessing.cpu_count()-5)\n",
    "val_data = gluon.data.DataLoader(valset, batch_size, shuffle=False, last_batch='discard', \n",
    "                                   num_workers=multiprocessing.cpu_count()-5)"
   ]
  },
  {
   "cell_type": "markdown",
   "metadata": {
    "slideshow": {
     "slide_type": "notes"
    }
   },
   "source": [
    "For data augmentation,\n",
    "we follow the standard data augmentation routine to transform the input image\n",
    "and the ground truth label map synchronously. (*Note that \"nearest\"\n",
    "mode upsample are applied to the label maps to avoid messing up the boundaries.*)\n",
    "We first randomly scale the input image from 0.5 to 2.0 times, then rotate\n",
    "the image from -10 to 10 degrees, and crop the image with padding if needed.\n",
    "Finally a random Gaussian blurring is applied.\n",
    "\n",
    "Random pick one example for visualization:\n",
    "\n"
   ]
  },
  {
   "cell_type": "code",
   "execution_count": 8,
   "metadata": {
    "slideshow": {
     "slide_type": "slide"
    }
   },
   "outputs": [],
   "source": [
    "idx = random.randint(0, len(trainset))\n",
    "img, mask = trainset[idx]\n",
    "\n",
    "mask = get_color_pallete(mask.asnumpy(), dataset='pascal_voc')\n",
    "mask = np.array(mask.convert('RGB'), dtype=np.int)\n",
    "\n",
    "# denormalize the image\n",
    "img = DeNormalize([-.485, -.456, -.406], [.229, .224, .225])(img)\n",
    "img = np.transpose((img.asnumpy()*255).astype(np.uint8), (1, 2, 0))"
   ]
  },
  {
   "cell_type": "markdown",
   "metadata": {
    "slideshow": {
     "slide_type": "slide"
    }
   },
   "source": [
    "Plot the image and mask\n",
    "\n"
   ]
  },
  {
   "cell_type": "code",
   "execution_count": 9,
   "metadata": {
    "slideshow": {
     "slide_type": "fragment"
    }
   },
   "outputs": [
    {
     "data": {
      "image/png": "[encoded data removed]",
      "text/plain": [
       "<Figure size 432x288 with 2 Axes>"
      ]
     },
     "metadata": {},
     "output_type": "display_data"
    }
   ],
   "source": [
    "# subplot 1 for img\n",
    "fig = plt.figure()\n",
    "fig.add_subplot(1,2,1)\n",
    "plt.imshow(img)\n",
    "\n",
    "# subplot 2 for the mask\n",
    "fig.add_subplot(1,2,2)\n",
    "plt.imshow(mask)\n",
    "\n",
    "# display\n",
    "plt.show()"
   ]
  },
  {
   "cell_type": "code",
   "execution_count": 10,
   "metadata": {
    "slideshow": {
     "slide_type": "slide"
    }
   },
   "outputs": [
    {
     "data": {
      "text/plain": [
       "<matplotlib.image.AxesImage at 0x7f0f892ecda0>"
      ]
     },
     "execution_count": 10,
     "metadata": {},
     "output_type": "execute_result"
    },
    {
     "data": {
      "image/png": "[encoded data removed]",
      "text/plain": [
       "<Figure size 432x288 with 1 Axes>"
      ]
     },
     "metadata": {},
     "output_type": "display_data"
    }
   ],
   "source": [
    "plt.imshow(((mask+img)/2).astype(int))"
   ]
  },
  {
   "cell_type": "markdown",
   "metadata": {
    "slideshow": {
     "slide_type": "slide"
    }
   },
   "source": [
    "Training Details\n",
    "----------------"
   ]
  },
  {
   "cell_type": "markdown",
   "metadata": {
    "slideshow": {
     "slide_type": "notes"
    }
   },
   "source": [
    "- Training Losses:\n",
    "\n",
    "    We apply a standard per-pixel Softmax Cross Entropy Loss to train FCN. For Pascal\n",
    "    VOC dataset, we ignore the loss from boundary class (number 22).\n",
    "    Additionally, an Auxiliary Loss as in PSPNet [Zhao17]_ at Stage 3 can be enabled when\n",
    "    training with command ``--aux``. This will create an additional FCN \"head\" after Stage 3."
   ]
  },
  {
   "cell_type": "code",
   "execution_count": 11,
   "metadata": {
    "slideshow": {
     "slide_type": "slide"
    }
   },
   "outputs": [],
   "source": [
    "from gluoncv.model_zoo.segbase import SoftmaxCrossEntropyLossWithAux\n",
    "criterion = SoftmaxCrossEntropyLossWithAux(aux=False)"
   ]
  },
  {
   "cell_type": "markdown",
   "metadata": {
    "slideshow": {
     "slide_type": "slide"
    }
   },
   "source": [
    "Learning Rate and Scheduling:\n",
    "- head is 10x LR compared to backbone\n",
    "- LR PolyLR schedule\n"
   ]
  },
  {
   "cell_type": "markdown",
   "metadata": {
    "slideshow": {
     "slide_type": "notes"
    }
   },
   "source": [
    "We use different learning rate for FCN \"head\" and the base network. For the FCN \"head\",\n",
    "we use $10\\times$ base learning rate, because those layers are learned from scratch.\n",
    "We use a poly-like learning rate scheduler for FCN training, provided in :class:`gluoncv.utils.PolyLRScheduler`.\n",
    "The learning rate is given by $lr = baselr \\times (1-iter)^{power}$"
   ]
  },
  {
   "cell_type": "code",
   "execution_count": 12,
   "metadata": {
    "slideshow": {
     "slide_type": "fragment"
    }
   },
   "outputs": [],
   "source": [
    "epochs = 50"
   ]
  },
  {
   "cell_type": "markdown",
   "metadata": {
    "slideshow": {
     "slide_type": "slide"
    }
   },
   "source": [
    "- Dataparallel for multi-gpu training\n",
    "\n"
   ]
  },
  {
   "cell_type": "code",
   "execution_count": 13,
   "metadata": {
    "slideshow": {
     "slide_type": "fragment"
    }
   },
   "outputs": [],
   "source": [
    "model = DataParallelModel(net, ctx_list)\n",
    "criterion = DataParallelCriterion(criterion, ctx_list)"
   ]
  },
  {
   "cell_type": "markdown",
   "metadata": {
    "slideshow": {
     "slide_type": "slide"
    }
   },
   "source": [
    "- Learning rate finder (\n",
    "Cyclical Learning Rates for Training Neural Networks, Leslie N. Smith, 2015)\n",
    "- Learning rate schedule\n",
    "\n",
    "![](https://raw.githubusercontent.com/dmlc/web-data/master/mxnet/doc/tutorials/lr_finder/finder_plot.png)"
   ]
  },
  {
   "cell_type": "code",
   "execution_count": 14,
   "metadata": {
    "slideshow": {
     "slide_type": "fragment"
    }
   },
   "outputs": [],
   "source": [
    "lr_scheduler = gluoncv.utils.LRScheduler('step', \n",
    "                                         0.001*len(ctx_list), \n",
    "                                         len(train_data), \n",
    "                                         epochs, \n",
    "                                         step=(10,30,40), \n",
    "                                         warmup_epochs=2, \n",
    "                                         warmup_lr=0.001)"
   ]
  },
  {
   "cell_type": "markdown",
   "metadata": {
    "slideshow": {
     "slide_type": "slide"
    }
   },
   "source": [
    "- Create SGD solver\n",
    "\n"
   ]
  },
  {
   "cell_type": "code",
   "execution_count": 15,
   "metadata": {
    "slideshow": {
     "slide_type": "fragment"
    }
   },
   "outputs": [],
   "source": [
    "optimizer = gluon.Trainer(model.module.collect_params(), 'sgd',\n",
    "                          {'lr_scheduler': lr_scheduler,\n",
    "                           'wd':0.0001,\n",
    "                           'momentum': 0.95,\n",
    "                           'multi_precision': True})"
   ]
  },
  {
   "cell_type": "markdown",
   "metadata": {
    "slideshow": {
     "slide_type": "slide"
    }
   },
   "source": [
    "The training loop\n",
    "-----------------\n",
    "\n",
    "\n"
   ]
  },
  {
   "cell_type": "code",
   "execution_count": 16,
   "metadata": {
    "slideshow": {
     "slide_type": "fragment"
    }
   },
   "outputs": [],
   "source": [
    "def get_images(outputs, data, target):\n",
    "    outputs_images = outputs[0][0].argmax(1).asnumpy()\n",
    "    outputs_images = [get_color_pallete(mask, dataset='pascal_voc') for mask in outputs_images]\n",
    "    outputs_images = [np.expand_dims(np.array(mask.convert('RGB'), dtype=np.int), 0) for mask in outputs_images]\n",
    "    outputs_images = np.concatenate(outputs_images)[:3]\n",
    "    outputs_images = outputs_images.transpose((0, 3, 1, 2)).astype(np.uint8)\n",
    "\n",
    "    target_images = target[:3,:,:]\n",
    "    target_images = [get_color_pallete(mask.asnumpy(), dataset='pascal_voc') for mask in target_images]\n",
    "    target_images = [np.expand_dims(np.array(mask.convert('RGB'), dtype=np.int), 0) for mask in target_images]\n",
    "    target_images = np.concatenate(target_images).transpose((0, 3, 1, 2)).astype(np.uint8)\n",
    "\n",
    "    data_images = data[:3,:,:,:]\n",
    "    data_images = DeNormalize([-.485, -.456, -.406], [.229, .224, .225])(data_images)\n",
    "    data_images = (data_images.asnumpy()*255).astype(np.uint8).astype(np.uint8)\n",
    "    \n",
    "    return outputs_images, target_images, data_images"
   ]
  },
  {
   "cell_type": "code",
   "execution_count": null,
   "metadata": {
    "slideshow": {
     "slide_type": "slide"
    }
   },
   "outputs": [],
   "source": [
    "n_batch = 5\n",
    "train_loss = 0.0\n",
    "for e in range(epochs):\n",
    "    tick = time.time()\n",
    "    train_loss = 0\n",
    "    \n",
    "    # Train\n",
    "    for i, (data, target) in enumerate(train_data):\n",
    "        lr_scheduler.update(i, e)\n",
    "        with autograd.record(True):\n",
    "            outputs = model(data)\n",
    "            losses = criterion(outputs, target)\n",
    "            autograd.backward(losses)\n",
    "        optimizer.step(batch_size, ignore_stale_grad=True)        \n",
    "        \n",
    "        if i % 10 == 0:\n",
    "            for loss in losses:\n",
    "                train_loss += loss.mean().asnumpy() / len(losses)\n",
    "    \n",
    "    # Val\n",
    "    val_loss = 0\n",
    "    for j, (data, target) in enumerate(val_data):\n",
    "        outputs = model(data)\n",
    "        losses = criterion(outputs, target)\n",
    "        for loss in losses:\n",
    "            val_loss += loss.mean().asnumpy() / len(losses)\n",
    "\n",
    "            \n",
    "    print(\"Epoch[{}]|Time {:.2f}s|Batch[{}]|Train Loss:{:.2f}|Val Loss:{:.2f}\".format(\n",
    "        e, time.time()-tick, i, train_loss[0]/(i+1), val_loss[0]/(j+1))\n",
    "         )                                                          \n",
    "                                                          \n",
    "    # print images\n",
    "    pred_images, target_images, data_images = get_images(outputs, data, target)\n",
    "    with SummaryWriter(logdir='/data/logs/run1') as sw:\n",
    "        sw.add_image(tag='data_image', image=data_images, global_step=e)\n",
    "        sw.add_image(tag='pred_image', image=(pred_images*0.7+0.3*data_images).astype(np.uint8), global_step=e)\n",
    "        sw.add_image(tag='target_image', image=(target_images*0.7+0.3*data_images).astype(np.uint8), global_step=e)\n",
    "        sw.add_scalar(tag='loss', value={'test':val_loss[0]/(j+1)}, global_step=e)\n",
    "        sw.add_scalar(tag='loss', value={'train':train_loss[0]/(i+1)}, global_step=e)"
   ]
  },
  {
   "cell_type": "markdown",
   "metadata": {
    "slideshow": {
     "slide_type": "slide"
    }
   },
   "source": [
    "\n",
    "References\n",
    "----------\n",
    "\n",
    ".. [Long15] Long, Jonathan, Evan Shelhamer, and Trevor Darrell. \\\n",
    "    \"Fully convolutional networks for semantic segmentation.\" \\\n",
    "    Proceedings of the IEEE conference on computer vision and pattern recognition. 2015.\n",
    "\n",
    ".. [Zhao17] Zhao, Hengshuang, Jianping Shi, Xiaojuan Qi, Xiaogang Wang, and Jiaya Jia. \\\n",
    "    \"Pyramid scene parsing network.\" IEEE Conf. on Computer Vision and Pattern Recognition (CVPR). 2017.\n",
    "\n",
    "\n"
   ]
  }
 ],
 "metadata": {
  "celltoolbar": "Slideshow",
  "kernelspec": {
   "display_name": "Python 3",
   "language": "python",
   "name": "python3"
  },
  "language_info": {
   "codemirror_mode": {
    "name": "ipython",
    "version": 3
   },
   "file_extension": ".py",
   "mimetype": "text/x-python",
   "name": "python",
   "nbconvert_exporter": "python",
   "pygments_lexer": "ipython3",
   "version": "3.6.5"
  }
 },
 "nbformat": 4,
 "nbformat_minor": 2
}
