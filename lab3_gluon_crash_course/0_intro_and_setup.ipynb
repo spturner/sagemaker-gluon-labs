{
 "cells": [
  {
   "cell_type": "markdown",
   "metadata": {},
   "source": [
    "# Lab 3: Building a Neural Network using Gluon\n",
    "\n",
    "Supporting material: .....<link>....\n",
    "\n",
    "## Background to lab\n",
    "Students will use a SageMaker-hosted notebook and the MXNet kernel to train a neural network using Gluon. They will then perform predictions against this model to identify different items of clothing within the FashionMNIST dataset via Gluon’s `data.vision.datasets` module.  \n",
    "\n",
    "## Environment setup\n",
    "Before starting the lab, you need to check what version of MXNet you are running on. \n",
    "\n",
    "This lab requires version ``1.2.1`` or higher. If you are running an earlier version, please follow the instructions to upgrade, otherwise you can skip to the first section on data manipulation. "
   ]
  },
  {
   "cell_type": "code",
   "execution_count": 1,
   "metadata": {},
   "outputs": [
    {
     "data": {
      "text/plain": [
       "'1.3.1'"
      ]
     },
     "execution_count": 1,
     "metadata": {},
     "output_type": "execute_result"
    }
   ],
   "source": [
    "# Output MXNet version to screen\n",
    "import mxnet as mx\n",
    "mx.__version__"
   ]
  },
  {
   "cell_type": "markdown",
   "metadata": {},
   "source": [
    "### Upgrading MXNet\n",
    "If your version of mxnet is less than 1.2.1 you should upgrade it for this lab. This can be accomplisted by calling out to the pip installer to update the package to the latest version. Ignore any recommendations to upgrade pip to version 18.1 as this is not required for the lab."
   ]
  },
  {
   "cell_type": "code",
   "execution_count": null,
   "metadata": {},
   "outputs": [],
   "source": [
    "!pip install --pre -U mxnet-cu90mkl"
   ]
  },
  {
   "cell_type": "markdown",
   "metadata": {},
   "source": [
    "Once you've updated MXNet, you will need to restart the notebook kernel, otherwise you may see no difference in version when running the below code. The expected output should be \n",
    "``'1.3.1'`` or higher"
   ]
  },
  {
   "cell_type": "code",
   "execution_count": 2,
   "metadata": {},
   "outputs": [
    {
     "data": {
      "text/plain": [
       "'1.3.1'"
      ]
     },
     "execution_count": 2,
     "metadata": {},
     "output_type": "execute_result"
    }
   ],
   "source": [
    "import mxnet as mx\n",
    "mx.__version__"
   ]
  },
  {
   "cell_type": "markdown",
   "metadata": {},
   "source": [
    "## Acknowledgements\n",
    "This lab is based on the [Gluon Crash Course](https://gluon-crash-course.mxnet.io), which is in turn based on content from [Deep Learning - The Straight Dope](https://gluon.mxnet.io/).\n",
    "\n",
    "Notebook material has also been used from [Simon Corston-Oliver's GitHub](https://github.com/simoncorstonoliver/DeepLearningWithMXNetGluon)\n",
    "\n",
    "<br>\n",
    "\n",
    "Go to: [1. Manipulating data with ndarray](./1_ndarray.ipynb)"
   ]
  },
  {
   "cell_type": "code",
   "execution_count": null,
   "metadata": {},
   "outputs": [],
   "source": []
  }
 ],
 "metadata": {
  "kernelspec": {
   "display_name": "conda_mxnet_p36",
   "language": "python",
   "name": "conda_mxnet_p36"
  },
  "language_info": {
   "codemirror_mode": {
    "name": "ipython",
    "version": 3
   },
   "file_extension": ".py",
   "mimetype": "text/x-python",
   "name": "python",
   "nbconvert_exporter": "python",
   "pygments_lexer": "ipython3",
   "version": "3.6.5"
  }
 },
 "nbformat": 4,
 "nbformat_minor": 2
}
